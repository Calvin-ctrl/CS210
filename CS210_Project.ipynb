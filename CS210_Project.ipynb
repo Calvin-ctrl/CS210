{
  "nbformat": 4,
  "nbformat_minor": 0,
  "metadata": {
    "colab": {
      "name": "CS210_Project.ipynb",
      "provenance": [],
      "collapsed_sections": []
    },
    "kernelspec": {
      "name": "python3",
      "display_name": "Python 3"
    }
  },
  "cells": [
    {
      "cell_type": "markdown",
      "metadata": {
        "id": "-o89nFnLOpgp"
      },
      "source": [
        "# Group 31\n",
        "#####-Muslim Malsagov\n",
        "#####-Alptunç Sever\n",
        "#####-Can Kayahan\n",
        "#####-Can Elgezen"
      ]
    },
    {
      "cell_type": "markdown",
      "metadata": {
        "id": "as8f1hM0GIAw"
      },
      "source": [
        "#Final Report:"
      ]
    },
    {
      "cell_type": "markdown",
      "metadata": {
        "id": "8nCUdYFoDGFq"
      },
      "source": [
        "# Introduction\n",
        "\n",
        "In our project, we will be working on the [Google Play Store](https://www.kaggle.com/lava18/google-play-store-apps) and [Apple Store](https://www.kaggle.com/ramamet4/app-store-apple-data-set-10k-apps) datasets. The goal of the project is to analyze each category of applications and determine whether a category is more successful in Play Store or Apple Store. Considering that app developers often prioritize an operating system, for example Android vs. iOS, we plan to recommend a store to focus on depending on which category the developer's app is in, so that the developer may have more success.\n",
        "\n",
        "To estimate the success of each category and each app in a category, we may utilize the means and standard deviations of ratings, install counts and review counts for each category and for all categories. We will try machine learning algorithm to predict the missing values of second dataset we work on to make the final comparison as accurate as possible"
      ]
    },
    {
      "cell_type": "markdown",
      "metadata": {
        "id": "7GCXX37WYjuZ"
      },
      "source": [
        "#Problem Definition\n",
        "\n",
        "As it was mentioned in the Introduction, by working through and analyzing two Datasets (Google Play Store and Apple Store) we are searching for the most efficient and succesful decision for programmers to choose in which platform they want to create their program "
      ]
    },
    {
      "cell_type": "code",
      "metadata": {
        "id": "ej6NObHxPOlD"
      },
      "source": [
        "import numpy as np\n",
        "import pandas as pd\n",
        "import matplotlib.pyplot as plt\n",
        "from os.path import join\n",
        "\n",
        "%matplotlib inline"
      ],
      "execution_count": null,
      "outputs": []
    },
    {
      "cell_type": "code",
      "metadata": {
        "colab": {
          "base_uri": "https://localhost:8080/"
        },
        "id": "1x_Jui1IPPvy",
        "outputId": "2f446827-e4d5-45a7-d14e-9ffedca320a6"
      },
      "source": [
        "from google.colab import drive\n",
        "drive.mount('./drive', force_remount=True)\n",
        "\n",
        "path_prefix = \"./drive/My Drive\""
      ],
      "execution_count": null,
      "outputs": [
        {
          "output_type": "stream",
          "text": [
            "Mounted at ./drive\n"
          ],
          "name": "stdout"
        }
      ]
    },
    {
      "cell_type": "code",
      "metadata": {
        "colab": {
          "base_uri": "https://localhost:8080/",
          "height": 204
        },
        "id": "WDkQYrswP7Fc",
        "outputId": "ac95b735-6157-42aa-f21a-950514fd3fd6"
      },
      "source": [
        "playstore = pd.read_csv(path_prefix + '/googleplaystore.csv')\n",
        "\n",
        "\n",
        "playstore.head()"
      ],
      "execution_count": null,
      "outputs": [
        {
          "output_type": "execute_result",
          "data": {
            "text/html": [
              "<div>\n",
              "<style scoped>\n",
              "    .dataframe tbody tr th:only-of-type {\n",
              "        vertical-align: middle;\n",
              "    }\n",
              "\n",
              "    .dataframe tbody tr th {\n",
              "        vertical-align: top;\n",
              "    }\n",
              "\n",
              "    .dataframe thead th {\n",
              "        text-align: right;\n",
              "    }\n",
              "</style>\n",
              "<table border=\"1\" class=\"dataframe\">\n",
              "  <thead>\n",
              "    <tr style=\"text-align: right;\">\n",
              "      <th></th>\n",
              "      <th>App</th>\n",
              "      <th>Category</th>\n",
              "      <th>Rating</th>\n",
              "      <th>Reviews</th>\n",
              "      <th>Size</th>\n",
              "      <th>Installs</th>\n",
              "      <th>Type</th>\n",
              "      <th>Price</th>\n",
              "      <th>Content Rating</th>\n",
              "      <th>Genres</th>\n",
              "      <th>Last Updated</th>\n",
              "      <th>Current Ver</th>\n",
              "      <th>Android Ver</th>\n",
              "    </tr>\n",
              "  </thead>\n",
              "  <tbody>\n",
              "    <tr>\n",
              "      <th>0</th>\n",
              "      <td>Photo Editor &amp; Candy Camera &amp; Grid &amp; ScrapBook</td>\n",
              "      <td>ART_AND_DESIGN</td>\n",
              "      <td>4.1</td>\n",
              "      <td>159</td>\n",
              "      <td>19M</td>\n",
              "      <td>10,000+</td>\n",
              "      <td>Free</td>\n",
              "      <td>0</td>\n",
              "      <td>Everyone</td>\n",
              "      <td>Art &amp; Design</td>\n",
              "      <td>January 7, 2018</td>\n",
              "      <td>1.0.0</td>\n",
              "      <td>4.0.3 and up</td>\n",
              "    </tr>\n",
              "    <tr>\n",
              "      <th>1</th>\n",
              "      <td>Coloring book moana</td>\n",
              "      <td>ART_AND_DESIGN</td>\n",
              "      <td>3.9</td>\n",
              "      <td>967</td>\n",
              "      <td>14M</td>\n",
              "      <td>500,000+</td>\n",
              "      <td>Free</td>\n",
              "      <td>0</td>\n",
              "      <td>Everyone</td>\n",
              "      <td>Art &amp; Design;Pretend Play</td>\n",
              "      <td>January 15, 2018</td>\n",
              "      <td>2.0.0</td>\n",
              "      <td>4.0.3 and up</td>\n",
              "    </tr>\n",
              "    <tr>\n",
              "      <th>2</th>\n",
              "      <td>U Launcher Lite – FREE Live Cool Themes, Hide ...</td>\n",
              "      <td>ART_AND_DESIGN</td>\n",
              "      <td>4.7</td>\n",
              "      <td>87510</td>\n",
              "      <td>8.7M</td>\n",
              "      <td>5,000,000+</td>\n",
              "      <td>Free</td>\n",
              "      <td>0</td>\n",
              "      <td>Everyone</td>\n",
              "      <td>Art &amp; Design</td>\n",
              "      <td>August 1, 2018</td>\n",
              "      <td>1.2.4</td>\n",
              "      <td>4.0.3 and up</td>\n",
              "    </tr>\n",
              "    <tr>\n",
              "      <th>3</th>\n",
              "      <td>Sketch - Draw &amp; Paint</td>\n",
              "      <td>ART_AND_DESIGN</td>\n",
              "      <td>4.5</td>\n",
              "      <td>215644</td>\n",
              "      <td>25M</td>\n",
              "      <td>50,000,000+</td>\n",
              "      <td>Free</td>\n",
              "      <td>0</td>\n",
              "      <td>Teen</td>\n",
              "      <td>Art &amp; Design</td>\n",
              "      <td>June 8, 2018</td>\n",
              "      <td>Varies with device</td>\n",
              "      <td>4.2 and up</td>\n",
              "    </tr>\n",
              "    <tr>\n",
              "      <th>4</th>\n",
              "      <td>Pixel Draw - Number Art Coloring Book</td>\n",
              "      <td>ART_AND_DESIGN</td>\n",
              "      <td>4.3</td>\n",
              "      <td>967</td>\n",
              "      <td>2.8M</td>\n",
              "      <td>100,000+</td>\n",
              "      <td>Free</td>\n",
              "      <td>0</td>\n",
              "      <td>Everyone</td>\n",
              "      <td>Art &amp; Design;Creativity</td>\n",
              "      <td>June 20, 2018</td>\n",
              "      <td>1.1</td>\n",
              "      <td>4.4 and up</td>\n",
              "    </tr>\n",
              "  </tbody>\n",
              "</table>\n",
              "</div>"
            ],
            "text/plain": [
              "                                                 App  ...   Android Ver\n",
              "0     Photo Editor & Candy Camera & Grid & ScrapBook  ...  4.0.3 and up\n",
              "1                                Coloring book moana  ...  4.0.3 and up\n",
              "2  U Launcher Lite – FREE Live Cool Themes, Hide ...  ...  4.0.3 and up\n",
              "3                              Sketch - Draw & Paint  ...    4.2 and up\n",
              "4              Pixel Draw - Number Art Coloring Book  ...    4.4 and up\n",
              "\n",
              "[5 rows x 13 columns]"
            ]
          },
          "metadata": {
            "tags": []
          },
          "execution_count": 56
        }
      ]
    },
    {
      "cell_type": "code",
      "metadata": {
        "id": "N0_GqFwvUTZT",
        "colab": {
          "base_uri": "https://localhost:8080/",
          "height": 255
        },
        "outputId": "a31ca679-d17a-41f9-9b57-69052ed074d8"
      },
      "source": [
        "applestore = pd.read_csv(path_prefix + \"/AppleStore.csv\")\n",
        "\n",
        "applestore.head()"
      ],
      "execution_count": null,
      "outputs": [
        {
          "output_type": "execute_result",
          "data": {
            "text/html": [
              "<div>\n",
              "<style scoped>\n",
              "    .dataframe tbody tr th:only-of-type {\n",
              "        vertical-align: middle;\n",
              "    }\n",
              "\n",
              "    .dataframe tbody tr th {\n",
              "        vertical-align: top;\n",
              "    }\n",
              "\n",
              "    .dataframe thead th {\n",
              "        text-align: right;\n",
              "    }\n",
              "</style>\n",
              "<table border=\"1\" class=\"dataframe\">\n",
              "  <thead>\n",
              "    <tr style=\"text-align: right;\">\n",
              "      <th></th>\n",
              "      <th>Unnamed: 0</th>\n",
              "      <th>id</th>\n",
              "      <th>track_name</th>\n",
              "      <th>size_bytes</th>\n",
              "      <th>currency</th>\n",
              "      <th>price</th>\n",
              "      <th>rating_count_tot</th>\n",
              "      <th>rating_count_ver</th>\n",
              "      <th>user_rating</th>\n",
              "      <th>user_rating_ver</th>\n",
              "      <th>ver</th>\n",
              "      <th>cont_rating</th>\n",
              "      <th>prime_genre</th>\n",
              "      <th>sup_devices.num</th>\n",
              "      <th>ipadSc_urls.num</th>\n",
              "      <th>lang.num</th>\n",
              "      <th>vpp_lic</th>\n",
              "    </tr>\n",
              "  </thead>\n",
              "  <tbody>\n",
              "    <tr>\n",
              "      <th>0</th>\n",
              "      <td>1</td>\n",
              "      <td>281656475</td>\n",
              "      <td>PAC-MAN Premium</td>\n",
              "      <td>100788224</td>\n",
              "      <td>USD</td>\n",
              "      <td>3.99</td>\n",
              "      <td>21292</td>\n",
              "      <td>26</td>\n",
              "      <td>4.0</td>\n",
              "      <td>4.5</td>\n",
              "      <td>6.3.5</td>\n",
              "      <td>4+</td>\n",
              "      <td>Games</td>\n",
              "      <td>38</td>\n",
              "      <td>5</td>\n",
              "      <td>10</td>\n",
              "      <td>1</td>\n",
              "    </tr>\n",
              "    <tr>\n",
              "      <th>1</th>\n",
              "      <td>2</td>\n",
              "      <td>281796108</td>\n",
              "      <td>Evernote - stay organized</td>\n",
              "      <td>158578688</td>\n",
              "      <td>USD</td>\n",
              "      <td>0.00</td>\n",
              "      <td>161065</td>\n",
              "      <td>26</td>\n",
              "      <td>4.0</td>\n",
              "      <td>3.5</td>\n",
              "      <td>8.2.2</td>\n",
              "      <td>4+</td>\n",
              "      <td>Productivity</td>\n",
              "      <td>37</td>\n",
              "      <td>5</td>\n",
              "      <td>23</td>\n",
              "      <td>1</td>\n",
              "    </tr>\n",
              "    <tr>\n",
              "      <th>2</th>\n",
              "      <td>3</td>\n",
              "      <td>281940292</td>\n",
              "      <td>WeatherBug - Local Weather, Radar, Maps, Alerts</td>\n",
              "      <td>100524032</td>\n",
              "      <td>USD</td>\n",
              "      <td>0.00</td>\n",
              "      <td>188583</td>\n",
              "      <td>2822</td>\n",
              "      <td>3.5</td>\n",
              "      <td>4.5</td>\n",
              "      <td>5.0.0</td>\n",
              "      <td>4+</td>\n",
              "      <td>Weather</td>\n",
              "      <td>37</td>\n",
              "      <td>5</td>\n",
              "      <td>3</td>\n",
              "      <td>1</td>\n",
              "    </tr>\n",
              "    <tr>\n",
              "      <th>3</th>\n",
              "      <td>4</td>\n",
              "      <td>282614216</td>\n",
              "      <td>eBay: Best App to Buy, Sell, Save! Online Shop...</td>\n",
              "      <td>128512000</td>\n",
              "      <td>USD</td>\n",
              "      <td>0.00</td>\n",
              "      <td>262241</td>\n",
              "      <td>649</td>\n",
              "      <td>4.0</td>\n",
              "      <td>4.5</td>\n",
              "      <td>5.10.0</td>\n",
              "      <td>12+</td>\n",
              "      <td>Shopping</td>\n",
              "      <td>37</td>\n",
              "      <td>5</td>\n",
              "      <td>9</td>\n",
              "      <td>1</td>\n",
              "    </tr>\n",
              "    <tr>\n",
              "      <th>4</th>\n",
              "      <td>5</td>\n",
              "      <td>282935706</td>\n",
              "      <td>Bible</td>\n",
              "      <td>92774400</td>\n",
              "      <td>USD</td>\n",
              "      <td>0.00</td>\n",
              "      <td>985920</td>\n",
              "      <td>5320</td>\n",
              "      <td>4.5</td>\n",
              "      <td>5.0</td>\n",
              "      <td>7.5.1</td>\n",
              "      <td>4+</td>\n",
              "      <td>Reference</td>\n",
              "      <td>37</td>\n",
              "      <td>5</td>\n",
              "      <td>45</td>\n",
              "      <td>1</td>\n",
              "    </tr>\n",
              "  </tbody>\n",
              "</table>\n",
              "</div>"
            ],
            "text/plain": [
              "   Unnamed: 0         id  ... lang.num  vpp_lic\n",
              "0           1  281656475  ...       10        1\n",
              "1           2  281796108  ...       23        1\n",
              "2           3  281940292  ...        3        1\n",
              "3           4  282614216  ...        9        1\n",
              "4           5  282935706  ...       45        1\n",
              "\n",
              "[5 rows x 17 columns]"
            ]
          },
          "metadata": {
            "tags": []
          },
          "execution_count": 57
        }
      ]
    },
    {
      "cell_type": "markdown",
      "metadata": {
        "id": "9IFp26kB8PKU"
      },
      "source": [
        "#I.Data Exploration and Utulized Datasets\n",
        "\n",
        "(Datasets that was used in first part is related to GooglePlay store when the Apple Dataset will be used later)\n",
        "\n",
        "I. First part of the work is to clean the dataframe we have. As it can be seen by table and part of code that there are many Nan values for rating and other aspects. Since this data will be more accurate without them, it is better to remove such apps that dont have specific information like \"Rating\" or \"Type\" of the application.\n",
        "\n",
        "II. The second part is to sort the categories of dataframe by rating, amount of installs and amount of apps to understand which categories have bigger advantage towards others. Especially, since we will use a data analyze realted to the attributes of this dataset, it is important to correctly understand what the GoogleStore dataset has.\n",
        "\n"
      ]
    },
    {
      "cell_type": "code",
      "metadata": {
        "colab": {
          "base_uri": "https://localhost:8080/",
          "height": 789
        },
        "id": "9wVNUys2euyn",
        "outputId": "0aaabe3f-3313-450a-c1dd-75fc93b74b2e"
      },
      "source": [
        "#Muslim's cell to work on part A:\n",
        "\n",
        "playstore=playstore.dropna(subset=[\"Rating\",\"Type\",\"Content Rating\",\"Current Ver\",\"Android Ver\"])\n",
        "playstore=playstore.reset_index(drop=True)\n",
        "print(\"The Playstore after removing rows with NaN values:\\n\",playstore)\n",
        "\n",
        "playstore_category=playstore.groupby(\"Genres\")[[\"Rating\"]].mean()#finding mean for each of parts\n",
        "print(\"Top 10 categories with respect to rating:\")#part 3\n",
        "top10_=playstore_category.sort_values(\"Rating\",ascending=False).head(10)#sorting the categories from top to buttom\n",
        "\n",
        "print()\n",
        "print (top10_)\n",
        "\n",
        "\n",
        "plt.figure(figsize=(15,15))\n",
        "top10_.plot.barh()\n",
        "plt.xlabel(\"Rating\")\n",
        "plt.grid(axis=\"x\", color=\"black\")#using grid for x "
      ],
      "execution_count": null,
      "outputs": [
        {
          "output_type": "stream",
          "text": [
            "The Playstore after removing rows with NaN values:\n",
            "                                                     App  ...         Android Ver\n",
            "0        Photo Editor & Candy Camera & Grid & ScrapBook  ...        4.0.3 and up\n",
            "1                                   Coloring book moana  ...        4.0.3 and up\n",
            "2     U Launcher Lite – FREE Live Cool Themes, Hide ...  ...        4.0.3 and up\n",
            "3                                 Sketch - Draw & Paint  ...          4.2 and up\n",
            "4                 Pixel Draw - Number Art Coloring Book  ...          4.4 and up\n",
            "...                                                 ...  ...                 ...\n",
            "9355                                      FR Calculator  ...          4.1 and up\n",
            "9356                                   Sya9a Maroc - FR  ...          4.1 and up\n",
            "9357                   Fr. Mike Schmitz Audio Teachings  ...          4.1 and up\n",
            "9358                      The SCP Foundation DB fr nn5n  ...  Varies with device\n",
            "9359      iHoroscope - 2018 Daily Horoscope & Astrology  ...  Varies with device\n",
            "\n",
            "[9360 rows x 13 columns]\n",
            "Top 10 categories with respect to rating:\n",
            "\n",
            "                               Rating\n",
            "Genres                               \n",
            "Comics;Creativity            4.800000\n",
            "Board;Pretend Play           4.800000\n",
            "Health & Fitness;Education   4.700000\n",
            "Adventure;Brain Games        4.600000\n",
            "Strategy;Action & Adventure  4.600000\n",
            "Puzzle;Education             4.600000\n",
            "Entertainment;Creativity     4.533333\n",
            "Music;Music & Video          4.533333\n",
            "Arcade;Pretend Play          4.500000\n",
            "Tools;Education              4.500000\n"
          ],
          "name": "stdout"
        },
        {
          "output_type": "display_data",
          "data": {
            "text/plain": [
              "<Figure size 1080x1080 with 0 Axes>"
            ]
          },
          "metadata": {
            "tags": []
          }
        },
        {
          "output_type": "display_data",
          "data": {
            "image/png": "[encoded data removed]",
            "text/plain": [
              "<Figure size 432x288 with 1 Axes>"
            ]
          },
          "metadata": {
            "tags": [],
            "needs_background": "light"
          }
        }
      ]
    },
    {
      "cell_type": "code",
      "metadata": {
        "colab": {
          "base_uri": "https://localhost:8080/",
          "height": 530
        },
        "id": "sjhlnJdFmJ8o",
        "outputId": "63d88f32-d5be-4900-9c48-981fbe959925"
      },
      "source": [
        "#Muslim's part\n",
        "import operator \n",
        "df = playstore.copy(deep = True)\n",
        "#numeric conversion\n",
        "df[\"Installs\"] = df[\"Installs\"].str.replace(\"\\+|,\", \"\", regex = True)\n",
        "df[\"Installs\"] = df[\"Installs\"].str.replace(\"Free\", \"0\", regex = True)\n",
        "df[\"Installs\"] = pd.to_numeric(df[\"Installs\"])\n",
        "\n",
        "import statistics as st\n",
        "d={}\n",
        "for i in playstore[\"Category\"]:\n",
        "  if i not in d: \n",
        "    rating=[]\n",
        "    downloads=[]\n",
        "    n=0\n",
        "    for j in range(len(playstore[\"Category\"])):\n",
        "      if playstore[\"Category\"][j] == i:\n",
        "        n += 1\n",
        "        rating.append(df[\"Rating\"][j])\n",
        "        downloads.append(df[\"Installs\"][j]) \n",
        "    d[i]=[st.mean(rating),st.mean(downloads),n]\n",
        "\n",
        "new_dic={}\n",
        "\n",
        "for i in d:\n",
        "  new_dic[i]=d[i][1]\n",
        "\n",
        "sorted_d = dict( sorted(new_dic.items(), key=operator.itemgetter(1),reverse=True))\n",
        "#part 2\n",
        "top10=[]\n",
        "for i in sorted_d:\n",
        "  if len(top10)>=10:\n",
        "    break\n",
        "  top10.append(i)\n",
        "x=[]\n",
        "for i in top10:\n",
        "  x.append(sorted_d[i])\n",
        "\n",
        "plt.figure (figsize=(13,8))\n",
        "plt.xticks([1000000,10000000,20000000,50000000,100000000],[\"1M\",\"10M\",\"20M\",\"50M\",\"100M\"])\n",
        "plt.title(\"Top 10 subcategories by amount of Installs\")\n",
        "plt.xlabel(\"Amount of downloads in millions\")\n",
        "plt.ylabel(\"Subcategories\")\n",
        "\n",
        "f_importances=pd.Series(x,index=top10)\n",
        "f_importances.nsmallest(10).plot(kind='barh',grid=True,color=\"darkred\")"
      ],
      "execution_count": null,
      "outputs": [
        {
          "output_type": "execute_result",
          "data": {
            "text/plain": [
              "<matplotlib.axes._subplots.AxesSubplot at 0x7fbe7d0d56a0>"
            ]
          },
          "metadata": {
            "tags": []
          },
          "execution_count": 59
        },
        {
          "output_type": "display_data",
          "data": {
            "image/png": "[encoded data removed]",
            "text/plain": [
              "<Figure size 936x576 with 1 Axes>"
            ]
          },
          "metadata": {
            "tags": [],
            "needs_background": "light"
          }
        }
      ]
    },
    {
      "cell_type": "code",
      "metadata": {
        "colab": {
          "base_uri": "https://localhost:8080/",
          "height": 536
        },
        "id": "iojZGyqCpqls",
        "outputId": "393b550a-11e6-4f1c-c304-60b1483427b3"
      },
      "source": [
        "\n",
        "data_ = playstore.copy(deep = True)\n",
        "\n",
        "amount=data_.groupby('Category')[[\"App\"]].count().sort_values(by=\"App\")  #amount of apps in each category\n",
        "print(\"Categories with lasrgest amount of apps:\")\n",
        "print(amount.nlargest(10,columns=\"App\"))\n",
        "plt.figure (figsize=(10,6))\n",
        "\n",
        "amount.nlargest(10,columns=\"App\").plot(title=\"Amount of apps in top10 categories\",kind='barh',grid=True,color=\"darkred\",linewidth=2)\n"
      ],
      "execution_count": null,
      "outputs": [
        {
          "output_type": "stream",
          "text": [
            "Categories with lasrgest amount of apps:\n",
            "                App\n",
            "Category           \n",
            "FAMILY         1746\n",
            "GAME           1097\n",
            "TOOLS           733\n",
            "PRODUCTIVITY    351\n",
            "MEDICAL         350\n",
            "COMMUNICATION   328\n",
            "FINANCE         323\n",
            "SPORTS          319\n",
            "PHOTOGRAPHY     317\n",
            "LIFESTYLE       314\n"
          ],
          "name": "stdout"
        },
        {
          "output_type": "execute_result",
          "data": {
            "text/plain": [
              "<matplotlib.axes._subplots.AxesSubplot at 0x7fbe7d14af98>"
            ]
          },
          "metadata": {
            "tags": []
          },
          "execution_count": 60
        },
        {
          "output_type": "display_data",
          "data": {
            "text/plain": [
              "<Figure size 720x432 with 0 Axes>"
            ]
          },
          "metadata": {
            "tags": []
          }
        },
        {
          "output_type": "display_data",
          "data": {
            "image/png": "[encoded data removed]",
            "text/plain": [
              "<Figure size 432x288 with 1 Axes>"
            ]
          },
          "metadata": {
            "tags": [],
            "needs_background": "light"
          }
        }
      ]
    },
    {
      "cell_type": "code",
      "metadata": {
        "colab": {
          "base_uri": "https://localhost:8080/"
        },
        "id": "s2SH4SnnWs2k",
        "outputId": "91a5367b-86f7-4c0d-94b7-f2aa0902f7ef"
      },
      "source": [
        "#Alptunç's part A for apple store dataset\n",
        "\n",
        "ap = applestore.copy(deep = True)\n",
        "\n",
        "print(\"Dataset shape before dropping rows with NaN values\",ap.shape)\n",
        "\n",
        "ap.dropna(subset=[\"rating_count_tot\",\"user_rating\",\"prime_genre\"], inplace= True) #dropping NaN rows\n",
        "\n",
        "print(\"Dataset shape after dropping rows with NaN values\", ap.shape)\n",
        "print(\"Turns out there aren't any rows with NaN values\")\n",
        "\n",
        "ap.rename(columns= {\"rating_count_tot\" : \"Reviews\", \"user_rating\" : \"Rating\", \"prime_genre\": \"Category\"}, inplace= True) #changed the column names so we can better use it with googleplaystore dataset\n",
        "\n",
        "print(\"\", \"Columns with changed names\",sep='\\n')\n",
        "print(ap[[\"Reviews\", \"Rating\", \"Category\"]])"
      ],
      "execution_count": null,
      "outputs": [
        {
          "output_type": "stream",
          "text": [
            "Dataset shape before dropping rows with NaN values (7197, 17)\n",
            "Dataset shape after dropping rows with NaN values (7197, 17)\n",
            "Turns out there aren't any rows with NaN values\n",
            "\n",
            "Columns with changed names\n",
            "      Reviews  Rating      Category\n",
            "0       21292     4.0         Games\n",
            "1      161065     4.0  Productivity\n",
            "2      188583     3.5       Weather\n",
            "3      262241     4.0      Shopping\n",
            "4      985920     4.5     Reference\n",
            "...       ...     ...           ...\n",
            "7192      142     4.5         Games\n",
            "7193       30     4.5         Games\n",
            "7194       15     4.5     Utilities\n",
            "7195       85     4.5         Games\n",
            "7196        3     5.0         Games\n",
            "\n",
            "[7197 rows x 3 columns]\n"
          ],
          "name": "stdout"
        }
      ]
    },
    {
      "cell_type": "markdown",
      "metadata": {
        "id": "EJg__22aO91N"
      },
      "source": [
        "###Data Exploration, Part 2:\n",
        "In this section found the categorical means and categorical standard deviations for each category, Reviews and Rating means and standard deviations will be used to train our Machine Learning Model in order to predict the missing install values in apple store dataset. Install means are calculated and will be used to conclude which store to pick for the given category.\n",
        "\n"
      ]
    },
    {
      "cell_type": "code",
      "metadata": {
        "colab": {
          "base_uri": "https://localhost:8080/"
        },
        "id": "0lWm1jKCwMZV",
        "outputId": "6cf73b94-1292-49fd-b475-97a1a59aaf62"
      },
      "source": [
        "#Can's cell for part B\n",
        "\n",
        "cc = playstore.copy(deep = True)\n",
        "\n",
        "cc = cc[cc['Category'] != '1.9'] #remove weird category\n",
        "\n",
        "cc['Reviews'] = cc['Reviews'].str.replace('.0M','000000') #replace million sign with 6 zeros\n",
        "cc['Reviews'] = pd.to_numeric(cc['Reviews'])\n",
        "\n",
        "cc['Installs'] = cc['Installs'].str.replace('\\+|,', '', regex = True) #remove + and ,\n",
        "cc['Installs'] = pd.to_numeric(cc['Installs'])\n",
        "\n",
        "categorical_means = cc.groupby('Category')[['Rating', 'Reviews', 'Installs']].mean()\n",
        "categorical_stdevs = cc.groupby('Category')[['Rating', 'Reviews', 'Installs']].std()\n",
        "\n",
        "print('Mean for each category\\n',categorical_means.head())\n",
        "print('\\nStandard deviation for each category\\n',categorical_stdevs.head())"
      ],
      "execution_count": null,
      "outputs": [
        {
          "output_type": "stream",
          "text": [
            "Mean for each category\n",
            "                        Rating        Reviews      Installs\n",
            "Category                                                  \n",
            "ART_AND_DESIGN       4.377049   28103.557377  2.036526e+06\n",
            "AUTO_AND_VEHICLES    4.190411   15940.136986  7.278055e+05\n",
            "BEAUTY               4.278571    9407.928571  6.408619e+05\n",
            "BOOKS_AND_REFERENCE  4.346067  123363.258427  1.079377e+07\n",
            "BUSINESS             4.121452   46053.089109  3.306165e+06\n",
            "\n",
            "Standard deviation for each category\n",
            "                        Rating        Reviews      Installs\n",
            "Category                                                  \n",
            "ART_AND_DESIGN       0.328326   71256.520679  6.865011e+06\n",
            "AUTO_AND_VEHICLES    0.543692   46494.622574  1.866462e+06\n",
            "BEAUTY               0.362603   21071.334910  1.691597e+06\n",
            "BOOKS_AND_REFERENCE  0.429046  398244.577801  7.672449e+07\n",
            "BUSINESS             0.624422  172732.109034  1.242359e+07\n"
          ],
          "name": "stdout"
        }
      ]
    },
    {
      "cell_type": "markdown",
      "metadata": {
        "id": "MuOvpk4-e-UR"
      },
      "source": [
        "We found the mean and standard deviation for downloads, ratings and reviews in order to compare it with our \"succesfull\" goal with the machine learning models."
      ]
    },
    {
      "cell_type": "code",
      "metadata": {
        "colab": {
          "base_uri": "https://localhost:8080/"
        },
        "id": "ArQ4AgKWJOcv",
        "outputId": "b1daf7da-cb20-431f-b5ec-61bb4f5dfddc"
      },
      "source": [
        "#Alptunç's part B\n",
        "db = playstore.copy(deep = True)\n",
        "\n",
        "# print(db.loc[10472, \"Installs\"]) no longer needed to check the 10472'th row since in part a it is deleted.\n",
        "\n",
        "print(db[\"Installs\"].head())\n",
        "\n",
        "db[\"Installs\"] = db[\"Installs\"].str.replace(\"\\+|,\", \"\", regex = True)\n",
        "# db[\"Installs\"] = db[\"Installs\"].str.replace(\"Free\", \"0\", regex = True) # set the Install value at row 10472 from \"Free\" to 0 - no longer needed done in part a\n",
        "db[\"Reviews\"] = db[\"Reviews\"].str.replace(\".0M\",\"000000\")\n",
        "\n",
        "\n",
        "db[\"Installs\"] = pd.to_numeric(db[\"Installs\"])\n",
        "db[\"Reviews\"] = pd.to_numeric(db[\"Reviews\"])\n",
        "\n",
        "Installs_mean = db[\"Installs\"].mean()\n",
        "Reviews_mean = db[\"Reviews\"].mean()\n",
        "Rating_mean = db[\"Rating\"].mean()\n",
        "Install_std = db[\"Installs\"].std()\n",
        "Reviews_std = db[\"Reviews\"].std()\n",
        "Rating_std = db[\"Rating\"].std()\n",
        "\n",
        "print(\"Mean for Installs: \",Installs_mean)\n",
        "print(\"Mean for Reviews: \", Reviews_mean)\n",
        "print(\"Mean for Ratings: \", Rating_mean)\n",
        "\n",
        "print(\"Standard Deviation for Installs: \",Install_std)\n",
        "print(\"Standard Deviation for Reviews: \", Reviews_std)\n",
        "print(\"Standard Deviation for Ratings: \", Rating_std)\n",
        "\n",
        "# part B for applestore dataset\n",
        "\n",
        "ap[\"Reviews\"] = pd.to_numeric(ap[\"Reviews\"])\n",
        "\n",
        "ap_categorical_means = ap.groupby(\"Category\")[[\"Rating\", \"Reviews\"]].mean()\n",
        "ap_categorical_std = ap.groupby(\"Category\")[[\"Rating\", \"Reviews\"]].std()\n",
        "\n",
        "print(\"\\n Mean for each Category in Apple Store Dataset\\n\")\n",
        "print(ap_categorical_means.head())\n",
        "print(\"\\nStandard Deviation for each Category in Apple Store Dataset\\n\")\n",
        "print(ap_categorical_std.head())\n",
        "\n",
        "ap_Reviews_mean = ap[\"Reviews\"].mean()\n",
        "ap_Rating_mean = ap[\"Rating\"].mean()\n",
        "ap_Reviews_std = ap[\"Reviews\"].std()\n",
        "ap_Rating_std = ap[\"Rating\"].std()\n",
        "\n",
        "print(\"\\nMean for Reviews in Apple Store:\" , ap_Reviews_mean , \"\\n\")\n",
        "print(\"Mean for Ratings in Apple Store:\" , ap_Rating_mean , \"\\n\")\n",
        "print(\"Standard Deviation for Reviews in Apple Store:\" , ap_Reviews_std , \"\\n\")\n",
        "print(\"Standard Deviation for Ratings in Apple Store:\" , ap_Rating_std , \"\\n\")"
      ],
      "execution_count": null,
      "outputs": [
        {
          "output_type": "stream",
          "text": [
            "0        10,000+\n",
            "1       500,000+\n",
            "2     5,000,000+\n",
            "3    50,000,000+\n",
            "4       100,000+\n",
            "Name: Installs, dtype: object\n",
            "Mean for Installs:  17908749.138675213\n",
            "Mean for Reviews:  514376.7052350427\n",
            "Mean for Ratings:  4.191837606837612\n",
            "Standard Deviation for Installs:  91266365.19271447\n",
            "Standard Deviation for Reviews:  3145023.255620236\n",
            "Standard Deviation for Ratings:  0.5152629700664079\n",
            "\n",
            " Mean for each Category in Apple Store Dataset\n",
            "\n",
            "                 Rating      Reviews\n",
            "Category                            \n",
            "Book           2.477679  5125.437500\n",
            "Business       3.745614  4788.087719\n",
            "Catalogs       2.100000  1732.500000\n",
            "Education      3.376380  2239.229581\n",
            "Entertainment  3.246729  7533.678505\n",
            "\n",
            "Standard Deviation for each Category in Apple Store Dataset\n",
            "\n",
            "                 Rating       Reviews\n",
            "Category                             \n",
            "Book           2.190673  27733.547345\n",
            "Business       1.254004   8967.641106\n",
            "Catalogs       2.245984   4138.260538\n",
            "Education      1.543311  11545.817944\n",
            "Entertainment  1.437481  28772.537014\n",
            "\n",
            "Mean for Reviews in Apple Store: 12892.907183548701 \n",
            "\n",
            "Mean for Ratings in Apple Store: 3.526955675976101 \n",
            "\n",
            "Standard Deviation for Reviews in Apple Store: 75739.40867472359 \n",
            "\n",
            "Standard Deviation for Ratings in Apple Store: 1.5179475936298494 \n",
            "\n"
          ],
          "name": "stdout"
        }
      ]
    },
    {
      "cell_type": "markdown",
      "metadata": {
        "id": "4t6UKUOMZ0Y4"
      },
      "source": [
        "###Machine Learning Models\n",
        "\n",
        "We used a random forest model to predict the number of installs of each app in Apple Store, an information which was initially missing. We trained the random forest model on the Play Store dataset to predict the number of installs based on Size, Content Rating, Rating, Reviews, Category and Price attributes. We then later used the trained model on the Apple Store dataset to calculate the number of installs."
      ]
    },
    {
      "cell_type": "code",
      "metadata": {
        "id": "SNzC9wkz6Mqi"
      },
      "source": [
        "ml1 = cc.copy(deep = True)\n",
        "\n",
        "ml1 = ml1.drop(labels = ['Type', 'Last Updated', 'Current Ver', 'Android Ver', 'Genres'], axis = 1)\n",
        "\n",
        "for i in range(ml1.index.array.size):\n",
        "  s = ml1['Size'].values[i]\n",
        "  if 'M' in s:\n",
        "    s = s.replace('M', '')\n",
        "    s = str(float(s) * 1024**2)\n",
        "  elif 'k' in s:\n",
        "    s = s.replace('k', '')\n",
        "    s = str(float(s) * 1024)\n",
        "  ml1['Size'].values[i] = s\n",
        "\n",
        "ml1 = ml1.drop(ml1[ml1['Size'] == 'Varies with device'].index)\n",
        "ml1['Size'] = pd.to_numeric(ml1['Size'])\n",
        "\n",
        "ml1['Price'] = ml1['Price'].str.replace('$', '')\n",
        "ml1['Price'] = pd.to_numeric(ml1['Price'])\n",
        "\n",
        "ml1.loc[ml1['Content Rating'] == 'Everyone', 'Content Rating'] = 0\n",
        "ml1.loc[ml1['Content Rating'] == 'Everyone 10+', 'Content Rating'] = 1\n",
        "ml1.loc[ml1['Content Rating'] == 'Teen', 'Content Rating'] = 2\n",
        "ml1.loc[ml1['Content Rating'] == 'Mature 17+', 'Content Rating'] = 3\n",
        "ml1.loc[ml1['Content Rating'] == 'Adults only 18+', 'Content Rating'] = 4\n",
        "ml1.loc[ml1['Content Rating'] == 'Unrated', 'Content Rating'] = 5\n",
        "\n",
        "ml1['Content Rating'] = pd.to_numeric(ml1['Content Rating'])"
      ],
      "execution_count": null,
      "outputs": []
    },
    {
      "cell_type": "code",
      "metadata": {
        "id": "8YfmKiFnFggA",
        "colab": {
          "base_uri": "https://localhost:8080/"
        },
        "outputId": "4761641c-ba1b-45e4-b7e7-08a1fb7a662c"
      },
      "source": [
        "from sklearn.preprocessing import LabelEncoder\n",
        "\n",
        "encoder = LabelEncoder()\n",
        "encoder = encoder.fit(ml1[['Category']])\n",
        "\n",
        "ml1['Category'] = encoder.transform(ml1[['Category']])\n",
        "\n",
        "ml1 = ml1.drop(labels = 'App', axis = 1)"
      ],
      "execution_count": null,
      "outputs": [
        {
          "output_type": "stream",
          "text": [
            "/usr/local/lib/python3.6/dist-packages/sklearn/preprocessing/_label.py:235: DataConversionWarning: A column-vector y was passed when a 1d array was expected. Please change the shape of y to (n_samples, ), for example using ravel().\n",
            "  y = column_or_1d(y, warn=True)\n",
            "/usr/local/lib/python3.6/dist-packages/sklearn/preprocessing/_label.py:268: DataConversionWarning: A column-vector y was passed when a 1d array was expected. Please change the shape of y to (n_samples, ), for example using ravel().\n",
            "  y = column_or_1d(y, warn=True)\n"
          ],
          "name": "stderr"
        }
      ]
    },
    {
      "cell_type": "code",
      "metadata": {
        "colab": {
          "base_uri": "https://localhost:8080/"
        },
        "id": "WzOBLYeogOiG",
        "outputId": "fbc89d74-070c-431f-b6dc-94d3c1466750"
      },
      "source": [
        "ml1 = ml1.dropna()\n",
        "\n",
        "from sklearn.ensemble import RandomForestClassifier\n",
        "from sklearn.model_selection import train_test_split\n",
        "from sklearn.metrics import accuracy_score\n",
        "\n",
        "rf = RandomForestClassifier(criterion = 'entropy')\n",
        "\n",
        "X = ml1.drop(labels = 'Installs', axis = 1)\n",
        "y = ml1['Installs']\n",
        "\n",
        "X_train, X_val, y_train, y_val = train_test_split(X, y, test_size = 0.1, random_state = 42)\n",
        "\n",
        "rf = rf.fit(X_train, y_train)\n",
        "pred = rf.predict(X_val)\n",
        "\n",
        "acc = accuracy_score(y_val, pred)\n",
        "\n",
        "print('Accuracy =', acc)"
      ],
      "execution_count": null,
      "outputs": [
        {
          "output_type": "stream",
          "text": [
            "Accuracy = 0.5963777490297542\n"
          ],
          "name": "stdout"
        }
      ]
    },
    {
      "cell_type": "code",
      "metadata": {
        "colab": {
          "base_uri": "https://localhost:8080/",
          "height": 336
        },
        "id": "nNAJMkMrgQAM",
        "outputId": "96d20d44-b181-4941-fb6b-b142a716373c"
      },
      "source": [
        "from matplotlib import cm\n",
        "\n",
        "imp = rf.feature_importances_\n",
        "col_names = X_train.axes[1]\n",
        "\n",
        "df_imp = pd.DataFrame([imp], columns = col_names)\n",
        "\n",
        "df_imp = df_imp.sort_values(by = 0, axis = 1, ascending = False)\n",
        "\n",
        "df_imp = df_imp.sort_values(by = 0, axis = 1).transpose()\n",
        "\n",
        "clr = cm.spring(np.linspace(1, 0.3, 6))\n",
        "\n",
        "fig, axes = plt.subplots(1, 1, figsize = (10, 5))\n",
        "\n",
        "plt.barh(df_imp[0].index, df_imp[0].array, color = clr)\n",
        "plt.grid(color = 'gray')\n",
        "plt.title('Feature Importances of the Random Forest Model');"
      ],
      "execution_count": null,
      "outputs": [
        {
          "output_type": "display_data",
          "data": {
            "image/png": "[encoded data removed]",
            "text/plain": [
              "<Figure size 720x360 with 1 Axes>"
            ]
          },
          "metadata": {
            "tags": [],
            "needs_background": "light"
          }
        }
      ]
    },
    {
      "cell_type": "code",
      "metadata": {
        "colab": {
          "base_uri": "https://localhost:8080/",
          "height": 340
        },
        "id": "Z-1Frc4JVD8J",
        "outputId": "18be243f-a019-44e3-baec-b73777e2092d"
      },
      "source": [
        "ml2 = ap.copy(deep = True)\n",
        "\n",
        "ml2 = ml2[['size_bytes', 'price', 'Reviews', 'Rating', 'cont_rating', 'Category']]\n",
        "\n",
        "ml2.loc[ml2['cont_rating'] == '4+', 'cont_rating'] = 0\n",
        "ml2.loc[ml2['cont_rating'] == '9+', 'cont_rating'] = 1\n",
        "ml2.loc[ml2['cont_rating'] == '12+', 'cont_rating'] = 2\n",
        "ml2.loc[ml2['cont_rating'] == '17+', 'cont_rating'] = 3\n",
        "\n",
        "ml2['cont_rating'] = pd.to_numeric(ml2['cont_rating'])\n",
        "\n",
        "ml2['Category'] = ml2['Category'].str.upper()\n",
        "ml2['Category'] = ml2['Category'].str.replace('&', 'AND')\n",
        "ml2['Category'] = ml2['Category'].str.replace(' ', '_')\n",
        "ml2.loc[ml2['Category'] == 'GAMES', 'Category'] = 'GAME'\n",
        "ml2.loc[ml2['Category'] == 'REFERENCE', 'Category'] = 'BOOKS_AND_REFERENCE'\n",
        "ml2.loc[ml2['Category'] == 'BOOK', 'Category'] = 'BOOKS_AND_REFERENCE'\n",
        "ml2.loc[ml2['Category'] == 'CATALOGS', 'Category'] = 'BOOKS_AND_REFERENCE'\n",
        "ml2.loc[ml2['Category'] == 'UTILITIES', 'Category'] = 'TOOLS'\n",
        "ml2.loc[ml2['Category'] == 'MUSIC', 'Category'] = 'ENTERTAINMENT'\n",
        "ml2.loc[ml2['Category'] == 'TRAVEL', 'Category'] = 'TRAVEL_AND_LOCAL'\n",
        "ml2.loc[ml2['Category'] == 'NAVIGATION', 'Category'] = 'TRAVEL_AND_LOCAL'\n",
        "ml2.loc[ml2['Category'] == 'SOCIAL_NETWORKING', 'Category'] = 'COMMUNICATION'\n",
        "ml2.loc[ml2['Category'] == 'PHOTO_AND_VIDEO', 'Category'] = 'PHOTOGRAPHY'\n",
        "ml2.loc[ml2['Category'] == 'NEWS', 'Category'] = 'NEWS_AND_MAGAZINES'\n",
        "\n",
        "new_categories = ml2['Category']\n",
        "\n",
        "ml2['Category'] = encoder.transform(ml2[['Category']])\n",
        "\n",
        "ml2 = ml2.rename(columns = {'size_bytes': 'Size', 'price': 'Price', 'cont_rating': 'Content Rating'})\n",
        "\n",
        "pred2 = rf.predict(ml2)\n",
        "\n",
        "apple_installs = pd.DataFrame(pred2, columns = ['Installs'])\n",
        "\n",
        "applestore2 = ap.copy(deep = True)\n",
        "applestore2['Installs'] = apple_installs\n",
        "applestore2['Category'] = new_categories\n",
        "\n",
        "applestore2.head()"
      ],
      "execution_count": null,
      "outputs": [
        {
          "output_type": "stream",
          "text": [
            "/usr/local/lib/python3.6/dist-packages/sklearn/preprocessing/_label.py:268: DataConversionWarning: A column-vector y was passed when a 1d array was expected. Please change the shape of y to (n_samples, ), for example using ravel().\n",
            "  y = column_or_1d(y, warn=True)\n"
          ],
          "name": "stderr"
        },
        {
          "output_type": "execute_result",
          "data": {
            "text/html": [
              "<div>\n",
              "<style scoped>\n",
              "    .dataframe tbody tr th:only-of-type {\n",
              "        vertical-align: middle;\n",
              "    }\n",
              "\n",
              "    .dataframe tbody tr th {\n",
              "        vertical-align: top;\n",
              "    }\n",
              "\n",
              "    .dataframe thead th {\n",
              "        text-align: right;\n",
              "    }\n",
              "</style>\n",
              "<table border=\"1\" class=\"dataframe\">\n",
              "  <thead>\n",
              "    <tr style=\"text-align: right;\">\n",
              "      <th></th>\n",
              "      <th>Unnamed: 0</th>\n",
              "      <th>id</th>\n",
              "      <th>track_name</th>\n",
              "      <th>size_bytes</th>\n",
              "      <th>currency</th>\n",
              "      <th>price</th>\n",
              "      <th>Reviews</th>\n",
              "      <th>rating_count_ver</th>\n",
              "      <th>Rating</th>\n",
              "      <th>user_rating_ver</th>\n",
              "      <th>ver</th>\n",
              "      <th>cont_rating</th>\n",
              "      <th>Category</th>\n",
              "      <th>sup_devices.num</th>\n",
              "      <th>ipadSc_urls.num</th>\n",
              "      <th>lang.num</th>\n",
              "      <th>vpp_lic</th>\n",
              "      <th>Installs</th>\n",
              "    </tr>\n",
              "  </thead>\n",
              "  <tbody>\n",
              "    <tr>\n",
              "      <th>0</th>\n",
              "      <td>1</td>\n",
              "      <td>281656475</td>\n",
              "      <td>PAC-MAN Premium</td>\n",
              "      <td>100788224</td>\n",
              "      <td>USD</td>\n",
              "      <td>3.99</td>\n",
              "      <td>21292</td>\n",
              "      <td>26</td>\n",
              "      <td>4.0</td>\n",
              "      <td>4.5</td>\n",
              "      <td>6.3.5</td>\n",
              "      <td>4+</td>\n",
              "      <td>GAME</td>\n",
              "      <td>38</td>\n",
              "      <td>5</td>\n",
              "      <td>10</td>\n",
              "      <td>1</td>\n",
              "      <td>1000000</td>\n",
              "    </tr>\n",
              "    <tr>\n",
              "      <th>1</th>\n",
              "      <td>2</td>\n",
              "      <td>281796108</td>\n",
              "      <td>Evernote - stay organized</td>\n",
              "      <td>158578688</td>\n",
              "      <td>USD</td>\n",
              "      <td>0.00</td>\n",
              "      <td>161065</td>\n",
              "      <td>26</td>\n",
              "      <td>4.0</td>\n",
              "      <td>3.5</td>\n",
              "      <td>8.2.2</td>\n",
              "      <td>4+</td>\n",
              "      <td>PRODUCTIVITY</td>\n",
              "      <td>37</td>\n",
              "      <td>5</td>\n",
              "      <td>23</td>\n",
              "      <td>1</td>\n",
              "      <td>5000000</td>\n",
              "    </tr>\n",
              "    <tr>\n",
              "      <th>2</th>\n",
              "      <td>3</td>\n",
              "      <td>281940292</td>\n",
              "      <td>WeatherBug - Local Weather, Radar, Maps, Alerts</td>\n",
              "      <td>100524032</td>\n",
              "      <td>USD</td>\n",
              "      <td>0.00</td>\n",
              "      <td>188583</td>\n",
              "      <td>2822</td>\n",
              "      <td>3.5</td>\n",
              "      <td>4.5</td>\n",
              "      <td>5.0.0</td>\n",
              "      <td>4+</td>\n",
              "      <td>WEATHER</td>\n",
              "      <td>37</td>\n",
              "      <td>5</td>\n",
              "      <td>3</td>\n",
              "      <td>1</td>\n",
              "      <td>10000000</td>\n",
              "    </tr>\n",
              "    <tr>\n",
              "      <th>3</th>\n",
              "      <td>4</td>\n",
              "      <td>282614216</td>\n",
              "      <td>eBay: Best App to Buy, Sell, Save! Online Shop...</td>\n",
              "      <td>128512000</td>\n",
              "      <td>USD</td>\n",
              "      <td>0.00</td>\n",
              "      <td>262241</td>\n",
              "      <td>649</td>\n",
              "      <td>4.0</td>\n",
              "      <td>4.5</td>\n",
              "      <td>5.10.0</td>\n",
              "      <td>12+</td>\n",
              "      <td>SHOPPING</td>\n",
              "      <td>37</td>\n",
              "      <td>5</td>\n",
              "      <td>9</td>\n",
              "      <td>1</td>\n",
              "      <td>10000000</td>\n",
              "    </tr>\n",
              "    <tr>\n",
              "      <th>4</th>\n",
              "      <td>5</td>\n",
              "      <td>282935706</td>\n",
              "      <td>Bible</td>\n",
              "      <td>92774400</td>\n",
              "      <td>USD</td>\n",
              "      <td>0.00</td>\n",
              "      <td>985920</td>\n",
              "      <td>5320</td>\n",
              "      <td>4.5</td>\n",
              "      <td>5.0</td>\n",
              "      <td>7.5.1</td>\n",
              "      <td>4+</td>\n",
              "      <td>BOOKS_AND_REFERENCE</td>\n",
              "      <td>37</td>\n",
              "      <td>5</td>\n",
              "      <td>45</td>\n",
              "      <td>1</td>\n",
              "      <td>5000000</td>\n",
              "    </tr>\n",
              "  </tbody>\n",
              "</table>\n",
              "</div>"
            ],
            "text/plain": [
              "   Unnamed: 0         id  ... vpp_lic  Installs\n",
              "0           1  281656475  ...       1   1000000\n",
              "1           2  281796108  ...       1   5000000\n",
              "2           3  281940292  ...       1  10000000\n",
              "3           4  282614216  ...       1  10000000\n",
              "4           5  282935706  ...       1   5000000\n",
              "\n",
              "[5 rows x 18 columns]"
            ]
          },
          "metadata": {
            "tags": []
          },
          "execution_count": 68
        }
      ]
    },
    {
      "cell_type": "code",
      "metadata": {
        "id": "F21S-y556orT",
        "colab": {
          "base_uri": "https://localhost:8080/",
          "height": 669
        },
        "outputId": "68ed33d1-8fec-4b59-9299-6ca9c1d88515"
      },
      "source": [
        "apple_categorical_means = applestore2.groupby('Category')[['Installs']].mean()\n",
        "\n",
        "#categorical_means['Installs'].dtypes\n",
        "#apple_categorical_means['Installs'] = pd.to_numeric(apple_categorical_means['Installs']),\n",
        "\n",
        "drop1 = categorical_means.drop(labels = apple_categorical_means.index)\n",
        "drop2 = categorical_means.drop(labels = drop1.index)['Installs']\n",
        "\n",
        "drop2 = drop2.rename('Play Store Installs')\n",
        "apple_categorical_means = apple_categorical_means.rename(columns = {'Installs': 'Apple Store Installs'})\n",
        "\n",
        "new = pd.concat([drop2, apple_categorical_means], axis = 1)\n",
        "\n",
        "pstoresums = new['Play Store Installs'].sum()\n",
        "astoresums = new['Apple Store Installs'].sum()\n",
        "\n",
        "new['Play Store Installs Percentages'] = 0\n",
        "new['Apple Store Installs Percentages'] = 0\n",
        "new['Recommendation'] = ''\n",
        "\n",
        "new['Play Store Installs Percentages'] = new['Play Store Installs'] * 100 / pstoresums\n",
        "new['Apple Store Installs Percentages'] = new['Apple Store Installs'] * 100 / astoresums\n",
        "\n",
        "for i in range(new.index.array.size):\n",
        "  if new['Play Store Installs Percentages'].values[i] > new['Apple Store Installs Percentages'].values[i]:\n",
        "    new['Recommendation'].values[i] = 'Play Store'\n",
        "  else:\n",
        "    new['Recommendation'].values[i] = 'Apple Store'\n",
        "\n",
        "new.head(20)"
      ],
      "execution_count": null,
      "outputs": [
        {
          "output_type": "execute_result",
          "data": {
            "text/html": [
              "<div>\n",
              "<style scoped>\n",
              "    .dataframe tbody tr th:only-of-type {\n",
              "        vertical-align: middle;\n",
              "    }\n",
              "\n",
              "    .dataframe tbody tr th {\n",
              "        vertical-align: top;\n",
              "    }\n",
              "\n",
              "    .dataframe thead th {\n",
              "        text-align: right;\n",
              "    }\n",
              "</style>\n",
              "<table border=\"1\" class=\"dataframe\">\n",
              "  <thead>\n",
              "    <tr style=\"text-align: right;\">\n",
              "      <th></th>\n",
              "      <th>Play Store Installs</th>\n",
              "      <th>Apple Store Installs</th>\n",
              "      <th>Play Store Installs Percentages</th>\n",
              "      <th>Apple Store Installs Percentages</th>\n",
              "      <th>Recommendation</th>\n",
              "    </tr>\n",
              "    <tr>\n",
              "      <th>Category</th>\n",
              "      <th></th>\n",
              "      <th></th>\n",
              "      <th></th>\n",
              "      <th></th>\n",
              "      <th></th>\n",
              "    </tr>\n",
              "  </thead>\n",
              "  <tbody>\n",
              "    <tr>\n",
              "      <th>BOOKS_AND_REFERENCE</th>\n",
              "      <td>1.079377e+07</td>\n",
              "      <td>311806.559140</td>\n",
              "      <td>3.013918</td>\n",
              "      <td>3.560122</td>\n",
              "      <td>Apple Store</td>\n",
              "    </tr>\n",
              "    <tr>\n",
              "      <th>BUSINESS</th>\n",
              "      <td>3.306165e+06</td>\n",
              "      <td>250237.017544</td>\n",
              "      <td>0.923172</td>\n",
              "      <td>2.857138</td>\n",
              "      <td>Apple Store</td>\n",
              "    </tr>\n",
              "    <tr>\n",
              "      <th>COMMUNICATION</th>\n",
              "      <td>9.953427e+07</td>\n",
              "      <td>841996.167665</td>\n",
              "      <td>27.792707</td>\n",
              "      <td>9.613683</td>\n",
              "      <td>Play Store</td>\n",
              "    </tr>\n",
              "    <tr>\n",
              "      <th>EDUCATION</th>\n",
              "      <td>5.621626e+06</td>\n",
              "      <td>155362.317881</td>\n",
              "      <td>1.569713</td>\n",
              "      <td>1.773885</td>\n",
              "      <td>Apple Store</td>\n",
              "    </tr>\n",
              "    <tr>\n",
              "      <th>ENTERTAINMENT</th>\n",
              "      <td>1.925611e+07</td>\n",
              "      <td>364764.190193</td>\n",
              "      <td>5.376835</td>\n",
              "      <td>4.164778</td>\n",
              "      <td>Play Store</td>\n",
              "    </tr>\n",
              "    <tr>\n",
              "      <th>FINANCE</th>\n",
              "      <td>2.713970e+06</td>\n",
              "      <td>579798.365385</td>\n",
              "      <td>0.757815</td>\n",
              "      <td>6.619980</td>\n",
              "      <td>Apple Store</td>\n",
              "    </tr>\n",
              "    <tr>\n",
              "      <th>FOOD_AND_DRINK</th>\n",
              "      <td>2.511722e+06</td>\n",
              "      <td>504635.555556</td>\n",
              "      <td>0.701342</td>\n",
              "      <td>5.761791</td>\n",
              "      <td>Apple Store</td>\n",
              "    </tr>\n",
              "    <tr>\n",
              "      <th>GAME</th>\n",
              "      <td>3.198347e+07</td>\n",
              "      <td>484597.099948</td>\n",
              "      <td>8.930663</td>\n",
              "      <td>5.532998</td>\n",
              "      <td>Play Store</td>\n",
              "    </tr>\n",
              "    <tr>\n",
              "      <th>HEALTH_AND_FITNESS</th>\n",
              "      <td>5.330156e+06</td>\n",
              "      <td>337950.333333</td>\n",
              "      <td>1.488326</td>\n",
              "      <td>3.858625</td>\n",
              "      <td>Apple Store</td>\n",
              "    </tr>\n",
              "    <tr>\n",
              "      <th>LIFESTYLE</th>\n",
              "      <td>1.711978e+06</td>\n",
              "      <td>284900.416667</td>\n",
              "      <td>0.478031</td>\n",
              "      <td>3.252915</td>\n",
              "      <td>Apple Store</td>\n",
              "    </tr>\n",
              "    <tr>\n",
              "      <th>MEDICAL</th>\n",
              "      <td>1.520159e+05</td>\n",
              "      <td>2531.304348</td>\n",
              "      <td>0.042447</td>\n",
              "      <td>0.028902</td>\n",
              "      <td>Play Store</td>\n",
              "    </tr>\n",
              "    <tr>\n",
              "      <th>NEWS_AND_MAGAZINES</th>\n",
              "      <td>3.217258e+07</td>\n",
              "      <td>344354.666667</td>\n",
              "      <td>8.983469</td>\n",
              "      <td>3.931748</td>\n",
              "      <td>Play Store</td>\n",
              "    </tr>\n",
              "    <tr>\n",
              "      <th>PHOTOGRAPHY</th>\n",
              "      <td>3.182411e+07</td>\n",
              "      <td>425988.395415</td>\n",
              "      <td>8.886167</td>\n",
              "      <td>4.863819</td>\n",
              "      <td>Play Store</td>\n",
              "    </tr>\n",
              "    <tr>\n",
              "      <th>PRODUCTIVITY</th>\n",
              "      <td>4.038766e+07</td>\n",
              "      <td>451847.808989</td>\n",
              "      <td>11.277347</td>\n",
              "      <td>5.159075</td>\n",
              "      <td>Play Store</td>\n",
              "    </tr>\n",
              "    <tr>\n",
              "      <th>SHOPPING</th>\n",
              "      <td>1.364635e+07</td>\n",
              "      <td>856133.278689</td>\n",
              "      <td>3.810437</td>\n",
              "      <td>9.775096</td>\n",
              "      <td>Apple Store</td>\n",
              "    </tr>\n",
              "    <tr>\n",
              "      <th>SPORTS</th>\n",
              "      <td>5.489440e+06</td>\n",
              "      <td>719172.719298</td>\n",
              "      <td>1.532803</td>\n",
              "      <td>8.211318</td>\n",
              "      <td>Apple Store</td>\n",
              "    </tr>\n",
              "    <tr>\n",
              "      <th>TOOLS</th>\n",
              "      <td>1.562104e+07</td>\n",
              "      <td>305341.572581</td>\n",
              "      <td>4.361825</td>\n",
              "      <td>3.486307</td>\n",
              "      <td>Play Store</td>\n",
              "    </tr>\n",
              "    <tr>\n",
              "      <th>TRAVEL_AND_LOCAL</th>\n",
              "      <td>3.039318e+07</td>\n",
              "      <td>594394.015748</td>\n",
              "      <td>8.486613</td>\n",
              "      <td>6.786629</td>\n",
              "      <td>Play Store</td>\n",
              "    </tr>\n",
              "    <tr>\n",
              "      <th>WEATHER</th>\n",
              "      <td>5.681287e+06</td>\n",
              "      <td>942498.611111</td>\n",
              "      <td>1.586371</td>\n",
              "      <td>10.761192</td>\n",
              "      <td>Apple Store</td>\n",
              "    </tr>\n",
              "  </tbody>\n",
              "</table>\n",
              "</div>"
            ],
            "text/plain": [
              "                     Play Store Installs  ...  Recommendation\n",
              "Category                                  ...                \n",
              "BOOKS_AND_REFERENCE         1.079377e+07  ...     Apple Store\n",
              "BUSINESS                    3.306165e+06  ...     Apple Store\n",
              "COMMUNICATION               9.953427e+07  ...      Play Store\n",
              "EDUCATION                   5.621626e+06  ...     Apple Store\n",
              "ENTERTAINMENT               1.925611e+07  ...      Play Store\n",
              "FINANCE                     2.713970e+06  ...     Apple Store\n",
              "FOOD_AND_DRINK              2.511722e+06  ...     Apple Store\n",
              "GAME                        3.198347e+07  ...      Play Store\n",
              "HEALTH_AND_FITNESS          5.330156e+06  ...     Apple Store\n",
              "LIFESTYLE                   1.711978e+06  ...     Apple Store\n",
              "MEDICAL                     1.520159e+05  ...      Play Store\n",
              "NEWS_AND_MAGAZINES          3.217258e+07  ...      Play Store\n",
              "PHOTOGRAPHY                 3.182411e+07  ...      Play Store\n",
              "PRODUCTIVITY                4.038766e+07  ...      Play Store\n",
              "SHOPPING                    1.364635e+07  ...     Apple Store\n",
              "SPORTS                      5.489440e+06  ...     Apple Store\n",
              "TOOLS                       1.562104e+07  ...      Play Store\n",
              "TRAVEL_AND_LOCAL            3.039318e+07  ...      Play Store\n",
              "WEATHER                     5.681287e+06  ...     Apple Store\n",
              "\n",
              "[19 rows x 5 columns]"
            ]
          },
          "metadata": {
            "tags": []
          },
          "execution_count": 135
        }
      ]
    },
    {
      "cell_type": "code",
      "metadata": {
        "id": "nZxFHmO2MDWr",
        "colab": {
          "base_uri": "https://localhost:8080/",
          "height": 390
        },
        "outputId": "e81ec82b-fa22-4787-8180-8fd059a93d58"
      },
      "source": [
        "percentage_diffs = new.copy(deep = True)\n",
        "\n",
        "percentage_diffs['Percentage Differences'] = abs(percentage_diffs['Play Store Installs Percentages'] - percentage_diffs['Apple Store Installs Percentages'])\n",
        "\n",
        "percentage_diffs = percentage_diffs[['Percentage Differences']].sort_values(by = 'Percentage Differences')\n",
        "\n",
        "fig, axes = plt.subplots(1, 1, figsize = (10, 6))\n",
        "\n",
        "percentage_diffs.plot.barh(ax = axes)\n",
        "plt.grid(color = 'gray')\n",
        "plt.title('Install Percentage Differences Between Each Category for Each Store');"
      ],
      "execution_count": null,
      "outputs": [
        {
          "output_type": "display_data",
          "data": {
            "image/png": "[encoded data removed]",
            "text/plain": [
              "<Figure size 720x432 with 1 Axes>"
            ]
          },
          "metadata": {
            "tags": [],
            "needs_background": "light"
          }
        }
      ]
    },
    {
      "cell_type": "markdown",
      "metadata": {
        "id": "NPEF4Of4LFh2"
      },
      "source": [
        "#Conclusion\n",
        "\n",
        "As it can be seen from final cells (regarding machine learning algorithm), by using machine learning method we were able to predict the amount of installs for each app of Apple Store and afterwards of its categories from the inputs of PlayStore. In the cell with table we can see the different data. (mean of installs for both platforms,their percantages and a final conlumn) The final column is giving a final decision, and the final part previous work was made for. By this table, it is easy to determine which platform is more suitable for the spicific app the programmer wants to create"
      ]
    },
    {
      "cell_type": "markdown",
      "metadata": {
        "id": "MlF3zv6vLN3l"
      },
      "source": [
        "Also, from the last graph it can be seen a percentage difference between GooglePlay Store and Apple Store, since the amount of downloads in GooglePlay store was much higher than Appstore, it was decided to use a percentages (last table) for each store to detemine how they differ for more accurate comparison. \n",
        "\n",
        "However, for categories as \"Game\", \"Photography\" and the ones above in the table (that has a percentage difference higher than 2.5%) we recommend to choose a GooglePlay Store, since the difference in amount of installs between them is starting to rapidly increase."
      ]
    },
    {
      "cell_type": "markdown",
      "metadata": {
        "id": "5odp4IENGvvC"
      },
      "source": [
        "### Work Division\n",
        "The work was done by 3 members of this grup. Muslim Malsagov worked on part I and partially on the last parts related to the final table and graph . Alptunc Sever worked on part II and partially on last parts too. Can Elgezen worked on last parts related to 'Machine Learning Models' section and last cells+ partially on part II."
      ]
    }
  ]
}